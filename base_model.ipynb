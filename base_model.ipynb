{
  "nbformat": 4,
  "nbformat_minor": 0,
  "metadata": {
    "colab": {
      "name": "notebook.ipynb",
      "provenance": [],
      "toc_visible": true
    },
    "kernelspec": {
      "name": "python3",
      "display_name": "Python 3"
    }
  },
  "cells": [
    {
      "cell_type": "markdown",
      "metadata": {
        "id": "pobqYthtdAuD"
      },
      "source": [
        "# SETUP\n",
        "\n",
        "## Get code and load data "
      ]
    },
    {
      "cell_type": "code",
      "metadata": {
        "id": "fWE005fVTOU4",
        "colab": {
          "base_uri": "https://localhost:8080/"
        },
        "outputId": "2c6f888f-efd1-499a-b057-8b5f51c4aa00"
      },
      "source": [
        "!git clone https://github.com/pedroalopes/RLPA.git"
      ],
      "execution_count": 9,
      "outputs": [
        {
          "output_type": "stream",
          "text": [
            "Cloning into 'RLPA'...\n",
            "remote: Enumerating objects: 75, done.\u001b[K\n",
            "remote: Counting objects: 100% (75/75), done.\u001b[K\n",
            "remote: Compressing objects: 100% (67/67), done.\u001b[K\n",
            "remote: Total 75 (delta 26), reused 36 (delta 5), pack-reused 0\u001b[K\n",
            "Unpacking objects: 100% (75/75), done.\n"
          ],
          "name": "stdout"
        }
      ]
    },
    {
      "cell_type": "code",
      "metadata": {
        "id": "RU9XL8fLdGya",
        "colab": {
          "base_uri": "https://localhost:8080/"
        },
        "outputId": "278cda5d-1e15-4929-8ce9-570561985a12"
      },
      "source": [
        "from google.colab import drive\n",
        "drive.mount('/content/drive')"
      ],
      "execution_count": 10,
      "outputs": [
        {
          "output_type": "stream",
          "text": [
            "Drive already mounted at /content/drive; to attempt to forcibly remount, call drive.mount(\"/content/drive\", force_remount=True).\n"
          ],
          "name": "stdout"
        }
      ]
    },
    {
      "cell_type": "code",
      "metadata": {
        "id": "xWDtc6DTeDmE"
      },
      "source": [
        "!rm -rf /content/RLPA/Refuge_Classification_Deeplab+3/data\n",
        "!cp /content/drive/MyDrive/FEUP/5º\\ ANO/data.zip /content/RLPA/Refuge_Classification_Deeplab+3/\n",
        "!unzip -q /content/RLPA/Refuge_Classification_Deeplab+3/data.zip \"data/*\" -d /content/RLPA/Refuge_Classification_Deeplab+3/\n",
        "!rm /content/RLPA/Refuge_Classification_Deeplab+3/data.zip"
      ],
      "execution_count": 11,
      "outputs": []
    },
    {
      "cell_type": "code",
      "metadata": {
        "id": "i3zMUVOLTkFR",
        "colab": {
          "base_uri": "https://localhost:8080/"
        },
        "outputId": "c709cc71-fdbe-453a-f11c-15f7c9b51bc4"
      },
      "source": [
        "# %pwd\n",
        "# %cd /content/RLPA/XUnet-Segmentation/\n",
        "%cd /content/RLPA/Refuge_Classification_Deeplab+3/\n",
        "\n",
        "!python2 train.py"
      ],
      "execution_count": 13,
      "outputs": [
        {
          "output_type": "stream",
          "text": [
            "/content/RLPA/Refuge_Classification_Deeplab+3\n",
            "Using TensorFlow backend.\n",
            "[INFO] loading images...\n",
            "tcmalloc: large alloc 5033164800 bytes == 0x55fee5f96000 @  0x7fb17b8481e7 0x7fb178acd771 0x7fb178b3228e 0x7fb178b358e0 0x7fb178b35e85 0x7fb178bcebdd 0x55fe4814aac8 0x55fe48140e0a 0x55fe48140879 0x55fe48170f5f 0x55fe4816c222 0x55fe4816bc4d 0x55fe4811aa86 0x7fb17b445bf7 0x55fe4811a37a\n",
            "tcmalloc: large alloc 3523215360 bytes == 0x5600128d6000 @  0x7fb17b8481e7 0x7fb178acd771 0x7fb178b3228e 0x7fb178b32393 0x7fb178b81b2d 0x7fb178bc15a0 0x55fe4814aac8 0x55fe48148556 0x55fe4815bd68 0x55fe4821ddeb 0x55fe48121841 0x55fe48166ede 0x55fe48131a6b 0x55fe48148750 0x55fe48140e0a 0x55fe48148f53 0x55fe48140e0a 0x55fe48140879 0x55fe48170f5f 0x55fe4816c222 0x55fe4816bc4d 0x55fe4811aa86 0x7fb17b445bf7 0x55fe4811a37a\n",
            "tcmalloc: large alloc 1509949440 bytes == 0x55fe4ff96000 @  0x7fb17b8481e7 0x7fb178acd771 0x7fb178b3228e 0x7fb178b32393 0x7fb178b81b2d 0x7fb178bc15a0 0x55fe4814aac8 0x55fe48148556 0x55fe4815bd68 0x55fe4821ddeb 0x55fe48121841 0x55fe48166ede 0x55fe48131a6b 0x55fe48148750 0x55fe48140e0a 0x55fe48148f53 0x55fe48140e0a 0x55fe48140879 0x55fe48170f5f 0x55fe4816c222 0x55fe4816bc4d 0x55fe4811aa86 0x7fb17b445bf7 0x55fe4811a37a\n",
            "[INFO] compiling model...\n",
            "2020-12-04 17:09:41.257287: I tensorflow/stream_executor/platform/default/dso_loader.cc:44] Successfully opened dynamic library libcuda.so.1\n",
            "2020-12-04 17:09:41.332782: E tensorflow/stream_executor/cuda/cuda_driver.cc:351] failed call to cuInit: CUDA_ERROR_NO_DEVICE: no CUDA-capable device is detected\n",
            "2020-12-04 17:09:41.332878: I tensorflow/stream_executor/cuda/cuda_diagnostics.cc:156] kernel driver does not appear to be running on this host (46105a680ce0): /proc/driver/nvidia/version does not exist\n",
            "2020-12-04 17:09:41.333526: I tensorflow/core/platform/cpu_feature_guard.cc:142] Your CPU supports instructions that this TensorFlow binary was not compiled to use: AVX512F\n",
            "2020-12-04 17:09:41.346887: I tensorflow/core/platform/profile_utils/cpu_utils.cc:94] CPU Frequency: 2000129999 Hz\n",
            "2020-12-04 17:09:41.347296: I tensorflow/compiler/xla/service/service.cc:168] XLA service 0x55fe4a4c6840 initialized for platform Host (this does not guarantee that XLA will be used). Devices:\n",
            "2020-12-04 17:09:41.347335: I tensorflow/compiler/xla/service/service.cc:176]   StreamExecutor device (0): Host, Default Version\n",
            "Traceback (most recent call last):\n",
            "  File \"train.py\", line 108, in <module>\n",
            "    model =  Deeplabv3(input_shape=(image_width,image_high,3), classes=2)\n",
            "  File \"/content/RLPA/Refuge_Classification_Deeplab+3/model.py\", line 445, in Deeplabv3\n",
            "    b4 = BilinearUpsampling((int(np.ceil(input_shape[0] / OS)), int(np.ceil(input_shape[1] / OS))))(b4)\n",
            "  File \"/content/RLPA/Refuge_Classification_Deeplab+3/model.py\", line 68, in __init__\n",
            "    self.data_format = conv_utils.normalize_data_format(data_format)\n",
            "AttributeError: 'module' object has no attribute 'normalize_data_format'\n"
          ],
          "name": "stdout"
        }
      ]
    }
  ]
}