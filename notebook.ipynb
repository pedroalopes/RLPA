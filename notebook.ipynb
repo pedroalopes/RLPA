{
  "nbformat": 4,
  "nbformat_minor": 0,
  "metadata": {
    "colab": {
      "name": "notebook.ipynb",
      "provenance": [],
      "toc_visible": true
    },
    "kernelspec": {
      "name": "python3",
      "display_name": "Python 3"
    }
  },
  "cells": [
    {
      "cell_type": "markdown",
      "metadata": {
        "id": "pobqYthtdAuD"
      },
      "source": [
        "# SETUP\n",
        "\n",
        "## Get code and load data "
      ]
    },
    {
      "cell_type": "code",
      "metadata": {
        "id": "fWE005fVTOU4",
        "colab": {
          "base_uri": "https://localhost:8080/"
        },
        "outputId": "23bc90ab-c292-412a-d9cb-1849b2a5e30b"
      },
      "source": [
        "!git clone https://github.com/pedroalopes/RLPA.git"
      ],
      "execution_count": null,
      "outputs": [
        {
          "output_type": "stream",
          "text": [
            "fatal: destination path 'RLPA' already exists and is not an empty directory.\n"
          ],
          "name": "stdout"
        }
      ]
    },
    {
      "cell_type": "code",
      "metadata": {
        "id": "RU9XL8fLdGya",
        "colab": {
          "base_uri": "https://localhost:8080/"
        },
        "outputId": "2d1096bf-0dc8-4ab3-a208-a363b0249ed3"
      },
      "source": [
        "from google.colab import drive\n",
        "drive.mount('/content/drive')"
      ],
      "execution_count": null,
      "outputs": [
        {
          "output_type": "stream",
          "text": [
            "Mounted at /content/drive\n"
          ],
          "name": "stdout"
        }
      ]
    },
    {
      "cell_type": "code",
      "metadata": {
        "id": "xWDtc6DTeDmE"
      },
      "source": [
        "!rm -rf /content/RLPA/Refuge_Classification_Deeplab+3/data\n",
        "!cp /content/drive/MyDrive/FEUP/5º\\ ANO/data.zip /content/RLPA/Refuge_Classification_Deeplab+3/\n",
        "!unzip -q /content/RLPA/Refuge_Classification_Deeplab+3/data.zip \"data/*\" -d /content/RLPA/Refuge_Classification_Deeplab+3/\n",
        "!rm /content/RLPA/Refuge_Classification_Deeplab+3/data.zip"
      ],
      "execution_count": 6,
      "outputs": []
    },
    {
      "cell_type": "code",
      "metadata": {
        "id": "i3zMUVOLTkFR",
        "colab": {
          "base_uri": "https://localhost:8080/"
        },
        "outputId": "0fadbe2e-0706-4243-cff9-d63e60cc06e8"
      },
      "source": [
        "%pwd\n",
        "\n",
        "%cd /content/RLPA/XUnet-Segmentation/\n",
        "%cd /content/RLPA/Refuge_Classification_Deeplab+3/\n",
        "\n",
        "!python train.py"
      ],
      "execution_count": null,
      "outputs": [
        {
          "output_type": "stream",
          "text": [
            "/content/RLPA/XUnet-Segmentation\n",
            "/content/RLPA/Refuge_Classification_Deeplab+3\n",
            "2020-12-04 09:36:05.060693: I tensorflow/stream_executor/platform/default/dso_loader.cc:48] Successfully opened dynamic library libcudart.so.10.1\n",
            "[INFO] loading images...\n",
            "Traceback (most recent call last):\n",
            "  File \"train.py\", line 91, in <module>\n",
            "    labels, test_size=0.30, random_state=42)\n",
            "  File \"/usr/local/lib/python3.6/dist-packages/sklearn/model_selection/_split.py\", line 2122, in train_test_split\n",
            "    default_test_size=0.25)\n",
            "  File \"/usr/local/lib/python3.6/dist-packages/sklearn/model_selection/_split.py\", line 1805, in _validate_shuffle_split\n",
            "    train_size)\n",
            "ValueError: With n_samples=0, test_size=0.3 and train_size=None, the resulting train set will be empty. Adjust any of the aforementioned parameters.\n"
          ],
          "name": "stdout"
        }
      ]
    }
  ]
}